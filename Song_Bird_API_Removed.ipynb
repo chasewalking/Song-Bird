{
 "cells": [
  {
   "cell_type": "markdown",
   "metadata": {},
   "source": [
    "# SONG BIRD APPLICATION\n",
    "\n",
    "### Song Bird will help you find similar songs in an artist's discography given a song name and an artist. \n",
    "\n",
    "Finding new music that fits your taste is a difficult and complicated task that companies like Apple, Spotify, and Pandora are always chasing to perfect. We will focus on a small problem within that larger task. Our problem is hearing a song that you love by an artist you don’t know for the first time. You manage to fumble your phone out of your pocket and open the Shazam app as the song begins to end. You pray that the Shazam bubble recognizes the song before the final note. Score! You have a new song in your library by an artist you are unfamiliar with. Again, if you’re anything like me, your next question is, Ok, what else will I like by DJ David? You might flip to his Apple music page and see DJ David has 100 songs and 4 albums. You start at the most liked songs… well those don’t sound anything like the song I liked and I don’t have time to go through all 100 songs. \n",
    "\n",
    "Song Bird will help save users time and effort by suggesting similar songs by DJ Dave based on the one song already obtained from the artist. The final product could be integrated into existing platforms like Apple Music and Spotify.  "
   ]
  },
  {
   "cell_type": "code",
   "execution_count": 2,
   "metadata": {},
   "outputs": [],
   "source": [
    "#import modules and packages for APIs and Scraping\n",
    "import requests\n",
    "from bs4 import BeautifulSoup\n",
    "import spotipy\n",
    "from spotipy.oauth2 import SpotifyClientCredentials\n",
    "\n",
    "#import NLP tools\n",
    "import spacy\n",
    "from collections import Counter\n",
    "!python -m spacy download en\n",
    "\n",
    "#import sklearn feature extraction, decomposition, preprocessing, and models\n",
    "from sklearn.feature_extraction.text import TfidfVectorizer\n",
    "from sklearn.decomposition import NMF\n",
    "from sklearn.preprocessing import MinMaxScaler, StandardScaler\n",
    "from sklearn.cluster import KMeans\n",
    "from sklearn.cluster import MeanShift, estimate_bandwidth\n",
    "from sklearn.cluster import SpectralClustering\n",
    "from sklearn.cluster import AffinityPropagation\n",
    "from sklearn import metrics\n",
    "from sklearn.metrics import pairwise_distances\n",
    "\n",
    "#import tools for data munging\n",
    "import time\n",
    "import numpy as np\n",
    "import pandas as pd\n",
    "import matplotlib.pyplot as plt\n",
    "import seaborn as sns\n",
    "import re\n",
    "from fuzzywuzzy import fuzz\n",
    "import itertools\n",
    "%matplotlib inline"
   ]
  },
  {
   "cell_type": "code",
   "execution_count": 77,
   "metadata": {},
   "outputs": [],
   "source": [
    "# Establishing connection to Spotify API\n",
    "client_credentials_manager = SpotifyClientCredentials(client_id = 'id', client_secret = 'secret')\n",
    "sp = spotipy.Spotify(client_credentials_manager=client_credentials_manager)"
   ]
  },
  {
   "cell_type": "markdown",
   "metadata": {},
   "source": [
    "### Search the artist name using the Spotify API and the spotipy library"
   ]
  },
  {
   "cell_type": "code",
   "execution_count": 78,
   "metadata": {},
   "outputs": [],
   "source": [
    "# Create variables for the artist name and song name\n",
    "search_artist_name = 'Kanye West'\n",
    "search_song_name = 'Good Morning'"
   ]
  },
  {
   "cell_type": "code",
   "execution_count": 79,
   "metadata": {
    "scrolled": true
   },
   "outputs": [],
   "source": [
    "# Create function to find uri of artist given name.\n",
    "def get_artist(name):\n",
    "    results = sp.search(q='artist:' + name, type='artist')\n",
    "    items = results['artists']['items']\n",
    "    if len(items) > 0:\n",
    "        return items[0]\n",
    "    else:\n",
    "        return None\n",
    "\n",
    "#Get artist uri and other features available for artists    \n",
    "get_artist(search_artist_name)\n",
    "artist_uri = get_artist(search_artist_name)['uri']\n",
    "artist_popularity = get_artist(search_artist_name)['popularity']\n",
    "artist_followers = get_artist(search_artist_name)['followers']['total']"
   ]
  },
  {
   "cell_type": "code",
   "execution_count": 80,
   "metadata": {
    "scrolled": false
   },
   "outputs": [
    {
     "name": "stdout",
     "output_type": "stream",
     "text": [
      "Artist Name : Kanye West\n",
      "\n",
      "Album: KIDS SEE GHOSTS\n",
      "Album: ye\n",
      "Album: The Life Of Pablo\n",
      "Album: Yeezus\n",
      "Album: My Beautiful Dark Twisted Fantasy\n",
      "Album: 808s & Heartbreak\n",
      "Album: Graduation\n",
      "Album: Late Orchestration\n",
      "Album: Late Registration\n"
     ]
    }
   ],
   "source": [
    "#Pull all of the artist's albums\n",
    "sp_albums = sp.artist_albums(artist_uri, album_type='album')\n",
    "\n",
    "#Store artist's albums' names' and uris in separate lists\n",
    "album_names = []\n",
    "album_uris = []\n",
    "for i in range(len(sp_albums['items'])):\n",
    "    album_names.append(sp_albums['items'][i]['name'])\n",
    "    album_uris.append(sp_albums['items'][i]['uri'])   \n",
    "print('Artist Name : {}\\n'.format(search_artist_name))\n",
    "album_dict =  dict(zip(album_names, album_uris))\n",
    "\n",
    "#Find matching or semi-matching album names and delete duplicates using fuzzy\n",
    "for a, b in itertools.combinations(album_dict, 2):\n",
    "    PR = fuzz.partial_ratio(a, b)\n",
    "    if PR >=80:\n",
    "        if len(a) < len(b):\n",
    "            del album_dict[b]\n",
    "        else:\n",
    "            del album_dict[a]\n",
    "for item in album_dict:\n",
    "    print('Album: {}'.format(item))"
   ]
  },
  {
   "cell_type": "code",
   "execution_count": 81,
   "metadata": {
    "scrolled": true
   },
   "outputs": [],
   "source": [
    "# Create function to get songs for each album listed above into dictionary\n",
    "def albumSongs(album_name):\n",
    "    album = album_dict[album_name] \n",
    "    spotify_albums[album] = {}\n",
    "    spotify_albums[album]['album'] = []\n",
    "    spotify_albums[album]['track_number'] = []\n",
    "    spotify_albums[album]['id'] = []\n",
    "    spotify_albums[album]['name'] = []\n",
    "    spotify_albums[album]['uri'] = []\n",
    "    tracks = sp.album_tracks(album)\n",
    "    for n in range(len(tracks['items'])):\n",
    "            spotify_albums[album]['album'].append(album_name)\n",
    "            spotify_albums[album]['track_number'].append(tracks['items'][n]['track_number'])\n",
    "            spotify_albums[album]['id'].append(tracks['items'][n]['id'])\n",
    "            spotify_albums[album]['name'].append(tracks['items'][n]['name'])\n",
    "            spotify_albums[album]['uri'].append(tracks['items'][n]['uri'])\n",
    "        \n",
    "spotify_albums = {}"
   ]
  },
  {
   "cell_type": "code",
   "execution_count": 82,
   "metadata": {},
   "outputs": [],
   "source": [
    "#Run each album through our albumSongs function\n",
    "for item in album_dict:\n",
    "    albumSongs(item)"
   ]
  },
  {
   "cell_type": "code",
   "execution_count": 83,
   "metadata": {},
   "outputs": [],
   "source": [
    "#Create function to obtain song features for each song on each album\n",
    "def audio_features(album):\n",
    "    #Add new key-values to store audio features\n",
    "    spotify_albums[album]['acousticness'] = []\n",
    "    spotify_albums[album]['danceability'] = []\n",
    "    spotify_albums[album]['energy'] = []\n",
    "    spotify_albums[album]['instrumentalness'] = []\n",
    "    spotify_albums[album]['liveness'] = []\n",
    "    spotify_albums[album]['loudness'] = []\n",
    "    spotify_albums[album]['speechiness'] = []\n",
    "    spotify_albums[album]['tempo'] = []\n",
    "    spotify_albums[album]['valence'] = []\n",
    "    spotify_albums[album]['popularity'] = []\n",
    "    track_count = 0\n",
    "    for track in spotify_albums[album]['uri']:\n",
    "        features = sp.audio_features(track)\n",
    "        spotify_albums[album]['acousticness'].append(features[0]['acousticness'])\n",
    "        spotify_albums[album]['danceability'].append(features[0]['danceability'])\n",
    "        spotify_albums[album]['energy'].append(features[0]['energy'])\n",
    "        spotify_albums[album]['instrumentalness'].append(features[0]['instrumentalness'])\n",
    "        spotify_albums[album]['liveness'].append(features[0]['liveness'])\n",
    "        spotify_albums[album]['loudness'].append(features[0]['loudness'])\n",
    "        spotify_albums[album]['speechiness'].append(features[0]['speechiness'])\n",
    "        spotify_albums[album]['tempo'].append(features[0]['tempo'])\n",
    "        spotify_albums[album]['valence'].append(features[0]['valence'])\n",
    "        pop = sp.track(track)\n",
    "        spotify_albums[album]['popularity'].append(pop['popularity'])\n",
    "        track_count+=1\n",
    "        "
   ]
  },
  {
   "cell_type": "code",
   "execution_count": 84,
   "metadata": {},
   "outputs": [
    {
     "name": "stdout",
     "output_type": "stream",
     "text": [
      "5 playlists completed\n",
      "Loop #: 5\n",
      "Elapsed Time: 54.11343717575073 seconds\n"
     ]
    }
   ],
   "source": [
    "# Time is used to assure that requests will not be flagged\n",
    "sleep_min = 2\n",
    "sleep_max = 5\n",
    "start_time = time.time()\n",
    "request_count = 0\n",
    "for i in spotify_albums:\n",
    "    audio_features(i)\n",
    "    request_count+=1\n",
    "    if request_count % 5 == 0:\n",
    "        print(str(request_count) + \" playlists completed\")\n",
    "        time.sleep(np.random.uniform(sleep_min, sleep_max))\n",
    "        print('Loop #: {}'.format(request_count))\n",
    "        print('Elapsed Time: {} seconds'.format(time.time() - start_time))"
   ]
  },
  {
   "cell_type": "code",
   "execution_count": 85,
   "metadata": {},
   "outputs": [],
   "source": [
    "#Create dataframe to hold song information\n",
    "dic_df = {}\n",
    "dic_df['album'] = []\n",
    "dic_df['track_number'] = []\n",
    "dic_df['id'] = []\n",
    "dic_df['name'] = []\n",
    "dic_df['uri'] = []\n",
    "dic_df['acousticness'] = []\n",
    "dic_df['danceability'] = []\n",
    "dic_df['energy'] = []\n",
    "dic_df['instrumentalness'] = []\n",
    "dic_df['liveness'] = []\n",
    "dic_df['loudness'] = []\n",
    "dic_df['speechiness'] = []\n",
    "dic_df['tempo'] = []\n",
    "dic_df['valence'] = []\n",
    "dic_df['popularity'] = []\n",
    "for album in spotify_albums: \n",
    "    for feature in spotify_albums[album]:\n",
    "        dic_df[feature].extend(spotify_albums[album][feature])\n",
    "        \n",
    "#Input all our lists into a dataframe\n",
    "df = pd.DataFrame.from_dict(dic_df)\n",
    "all_songs_df = df.sort_values('popularity', ascending=False).drop_duplicates('name').sort_index()"
   ]
  },
  {
   "cell_type": "code",
   "execution_count": 86,
   "metadata": {},
   "outputs": [
    {
     "name": "stdout",
     "output_type": "stream",
     "text": [
      "Option : Good Morning\n"
     ]
    }
   ],
   "source": [
    "#Confirm the song we are trying to match matches a song that has been obtained from the API\n",
    "for song in all_songs_df['name']:\n",
    "    PR = fuzz.partial_ratio(search_song_name, song)\n",
    "    if PR > 80:\n",
    "        print('Option : ' + song)"
   ]
  },
  {
   "cell_type": "code",
   "execution_count": 87,
   "metadata": {},
   "outputs": [],
   "source": [
    "search_song_name = \"Good Morning\""
   ]
  },
  {
   "cell_type": "code",
   "execution_count": 88,
   "metadata": {},
   "outputs": [],
   "source": [
    "# Scrape lyrics from the Genius Website\n",
    "base_url = \"https://api.genius.com\"\n",
    "headers = {'Authorization': 'BEARER TOKEN'}\n",
    "search_url = base_url + \"/search\"\n",
    "lyric_list = []\n",
    "sleep_min = 2\n",
    "sleep_max = 5\n",
    "start_time = time.time()\n",
    "\n",
    "for x in all_songs_df['name']:\n",
    "    song_title = x\n",
    "    artist_name = search_artist_name\n",
    "    time.sleep(np.random.uniform(sleep_min, sleep_max))\n",
    "    data = {'q': song_title}\n",
    "    response = requests.get(search_url, data=data, headers=headers)\n",
    "    json = response.json()\n",
    "    song_info = None\n",
    "    for hit in json[\"response\"][\"hits\"]:\n",
    "        if hit[\"result\"][\"primary_artist\"][\"name\"] == artist_name:\n",
    "            song_info = hit\n",
    "            break\n",
    "        elif song_info:\n",
    "            pass\n",
    "    try:\n",
    "        song_api_path = song_info[\"result\"][\"api_path\"]\n",
    "        song_url = base_url + song_api_path\n",
    "        response = requests.get(song_url, headers=headers)\n",
    "        json = response.json()\n",
    "        path = json[\"response\"][\"song\"][\"path\"]\n",
    "        page_url = \"http://genius.com\" + path\n",
    "        page = requests.get(page_url)\n",
    "        html = BeautifulSoup(page.text, \"html.parser\")\n",
    "        [h.extract() for h in html('script')]\n",
    "        lyrics = html.find(\"div\", class_=\"lyrics\").get_text()\n",
    "        lyric_list.append(lyrics)\n",
    "    except:\n",
    "        lyric_list.append('No Lyrics Available')\n",
    "        \n",
    "#Add each lyric to row in dataframe        \n",
    "all_songs_df['lyrics'] = lyric_list\n",
    "all_songs_df = all_songs_df.reset_index().drop(columns = ['index'])"
   ]
  },
  {
   "cell_type": "code",
   "execution_count": 89,
   "metadata": {},
   "outputs": [
    {
     "data": {
      "text/html": [
       "<div>\n",
       "<style scoped>\n",
       "    .dataframe tbody tr th:only-of-type {\n",
       "        vertical-align: middle;\n",
       "    }\n",
       "\n",
       "    .dataframe tbody tr th {\n",
       "        vertical-align: top;\n",
       "    }\n",
       "\n",
       "    .dataframe thead th {\n",
       "        text-align: right;\n",
       "    }\n",
       "</style>\n",
       "<table border=\"1\" class=\"dataframe\">\n",
       "  <thead>\n",
       "    <tr style=\"text-align: right;\">\n",
       "      <th></th>\n",
       "      <th>album</th>\n",
       "      <th>track_number</th>\n",
       "      <th>id</th>\n",
       "      <th>name</th>\n",
       "      <th>uri</th>\n",
       "      <th>acousticness</th>\n",
       "      <th>danceability</th>\n",
       "      <th>energy</th>\n",
       "      <th>instrumentalness</th>\n",
       "      <th>liveness</th>\n",
       "      <th>loudness</th>\n",
       "      <th>speechiness</th>\n",
       "      <th>tempo</th>\n",
       "      <th>valence</th>\n",
       "      <th>popularity</th>\n",
       "      <th>lyrics</th>\n",
       "    </tr>\n",
       "  </thead>\n",
       "  <tbody>\n",
       "    <tr>\n",
       "      <th>0</th>\n",
       "      <td>KIDS SEE GHOSTS</td>\n",
       "      <td>1</td>\n",
       "      <td>3aUFrxO1B8EW63QchEl3wX</td>\n",
       "      <td>Feel The Love</td>\n",
       "      <td>spotify:track:3aUFrxO1B8EW63QchEl3wX</td>\n",
       "      <td>0.126</td>\n",
       "      <td>0.580</td>\n",
       "      <td>0.469</td>\n",
       "      <td>0.000073</td>\n",
       "      <td>0.099</td>\n",
       "      <td>-5.946</td>\n",
       "      <td>0.104</td>\n",
       "      <td>110.573</td>\n",
       "      <td>0.369</td>\n",
       "      <td>70</td>\n",
       "      <td>No Lyrics Available</td>\n",
       "    </tr>\n",
       "    <tr>\n",
       "      <th>1</th>\n",
       "      <td>KIDS SEE GHOSTS</td>\n",
       "      <td>2</td>\n",
       "      <td>7oHkit3F3vimtsBbnZkU0G</td>\n",
       "      <td>Fire</td>\n",
       "      <td>spotify:track:7oHkit3F3vimtsBbnZkU0G</td>\n",
       "      <td>0.472</td>\n",
       "      <td>0.709</td>\n",
       "      <td>0.751</td>\n",
       "      <td>0.000005</td>\n",
       "      <td>0.182</td>\n",
       "      <td>-3.801</td>\n",
       "      <td>0.160</td>\n",
       "      <td>104.999</td>\n",
       "      <td>0.370</td>\n",
       "      <td>65</td>\n",
       "      <td>No Lyrics Available</td>\n",
       "    </tr>\n",
       "    <tr>\n",
       "      <th>2</th>\n",
       "      <td>KIDS SEE GHOSTS</td>\n",
       "      <td>3</td>\n",
       "      <td>6JyEh4kl9DLwmSAoNDRn5b</td>\n",
       "      <td>4th Dimension</td>\n",
       "      <td>spotify:track:6JyEh4kl9DLwmSAoNDRn5b</td>\n",
       "      <td>0.278</td>\n",
       "      <td>0.765</td>\n",
       "      <td>0.542</td>\n",
       "      <td>0.000019</td>\n",
       "      <td>0.609</td>\n",
       "      <td>-6.755</td>\n",
       "      <td>0.390</td>\n",
       "      <td>171.945</td>\n",
       "      <td>0.734</td>\n",
       "      <td>71</td>\n",
       "      <td>No Lyrics Available</td>\n",
       "    </tr>\n",
       "  </tbody>\n",
       "</table>\n",
       "</div>"
      ],
      "text/plain": [
       "             album  track_number                      id           name  \\\n",
       "0  KIDS SEE GHOSTS             1  3aUFrxO1B8EW63QchEl3wX  Feel The Love   \n",
       "1  KIDS SEE GHOSTS             2  7oHkit3F3vimtsBbnZkU0G           Fire   \n",
       "2  KIDS SEE GHOSTS             3  6JyEh4kl9DLwmSAoNDRn5b  4th Dimension   \n",
       "\n",
       "                                    uri  acousticness  danceability  energy  \\\n",
       "0  spotify:track:3aUFrxO1B8EW63QchEl3wX         0.126         0.580   0.469   \n",
       "1  spotify:track:7oHkit3F3vimtsBbnZkU0G         0.472         0.709   0.751   \n",
       "2  spotify:track:6JyEh4kl9DLwmSAoNDRn5b         0.278         0.765   0.542   \n",
       "\n",
       "   instrumentalness  liveness  loudness  speechiness    tempo  valence  \\\n",
       "0          0.000073     0.099    -5.946        0.104  110.573    0.369   \n",
       "1          0.000005     0.182    -3.801        0.160  104.999    0.370   \n",
       "2          0.000019     0.609    -6.755        0.390  171.945    0.734   \n",
       "\n",
       "   popularity               lyrics  \n",
       "0          70  No Lyrics Available  \n",
       "1          65  No Lyrics Available  \n",
       "2          71  No Lyrics Available  "
      ]
     },
     "execution_count": 89,
     "metadata": {},
     "output_type": "execute_result"
    }
   ],
   "source": [
    "all_songs_df.head(3)"
   ]
  },
  {
   "cell_type": "markdown",
   "metadata": {},
   "source": [
    "# Song features have been captured and lyrics have been scraped. \n",
    "\n",
    "## Let's explore our captured data.\n",
    "\n",
    "## Below are histograms of each song feature captured from Spotify for our artist's entire available discography. We do see quite a bit of frequencies tending to one side of the scale. For example, on average, instrumentalness seems to have an extreme skew to the left. This will prove important when scaling our features."
   ]
  },
  {
   "cell_type": "code",
   "execution_count": 90,
   "metadata": {},
   "outputs": [
    {
     "data": {
      "image/png": "[encoded data removed]",
      "text/plain": [
       "<Figure size 1080x720 with 12 Axes>"
      ]
     },
     "metadata": {
      "needs_background": "light"
     },
     "output_type": "display_data"
    }
   ],
   "source": [
    "all_songs_df.hist(bins = 20, figsize=(15,10))\n",
    "plt.show()"
   ]
  },
  {
   "cell_type": "code",
   "execution_count": 91,
   "metadata": {},
   "outputs": [],
   "source": [
    "popular_songs_df = all_songs_df[all_songs_df['popularity'] >=50]"
   ]
  },
  {
   "cell_type": "markdown",
   "metadata": {},
   "source": [
    "## We do not see much difference in the variance of the data when looking at songs that have at least a popularity score of 50 on Spotify."
   ]
  },
  {
   "cell_type": "code",
   "execution_count": 92,
   "metadata": {
    "scrolled": false
   },
   "outputs": [
    {
     "data": {
      "image/png": "[encoded data removed]",
      "text/plain": [
       "<Figure size 1080x720 with 12 Axes>"
      ]
     },
     "metadata": {
      "needs_background": "light"
     },
     "output_type": "display_data"
    }
   ],
   "source": [
    "popular_songs_df.hist(figsize=(15,10))\n",
    "plt.show()"
   ]
  },
  {
   "cell_type": "markdown",
   "metadata": {},
   "source": [
    "## Some common correlations might be liveness and energy or instrumentalness and loudness."
   ]
  },
  {
   "cell_type": "code",
   "execution_count": 93,
   "metadata": {
    "scrolled": false
   },
   "outputs": [
    {
     "data": {
      "text/plain": [
       "<matplotlib.axes._subplots.AxesSubplot at 0x1f4236852e8>"
      ]
     },
     "execution_count": 93,
     "metadata": {},
     "output_type": "execute_result"
    },
    {
     "data": {
      "image/png": "[encoded data removed]",
      "text/plain": [
       "<Figure size 1080x576 with 2 Axes>"
      ]
     },
     "metadata": {
      "needs_background": "light"
     },
     "output_type": "display_data"
    }
   ],
   "source": [
    "all_songs_corr = all_songs_df.corr()\n",
    "plt.figure(figsize = (15,8))\n",
    "sns.heatmap(all_songs_corr)"
   ]
  },
  {
   "cell_type": "markdown",
   "metadata": {},
   "source": [
    "## Now let's break down the lyrics for each song scraped from Genius."
   ]
  },
  {
   "cell_type": "code",
   "execution_count": 94,
   "metadata": {},
   "outputs": [],
   "source": [
    "nlp = spacy.load('en_core_web_sm')"
   ]
  },
  {
   "cell_type": "code",
   "execution_count": 95,
   "metadata": {},
   "outputs": [
    {
     "data": {
      "text/plain": [
       "'No Lyrics Available'"
      ]
     },
     "execution_count": 95,
     "metadata": {},
     "output_type": "execute_result"
    }
   ],
   "source": [
    "all_songs_df.loc[0, 'lyrics']"
   ]
  },
  {
   "cell_type": "code",
   "execution_count": 96,
   "metadata": {},
   "outputs": [
    {
     "data": {
      "text/html": [
       "<div>\n",
       "<style scoped>\n",
       "    .dataframe tbody tr th:only-of-type {\n",
       "        vertical-align: middle;\n",
       "    }\n",
       "\n",
       "    .dataframe tbody tr th {\n",
       "        vertical-align: top;\n",
       "    }\n",
       "\n",
       "    .dataframe thead th {\n",
       "        text-align: right;\n",
       "    }\n",
       "</style>\n",
       "<table border=\"1\" class=\"dataframe\">\n",
       "  <thead>\n",
       "    <tr style=\"text-align: right;\">\n",
       "      <th></th>\n",
       "      <th>album</th>\n",
       "      <th>track_number</th>\n",
       "      <th>id</th>\n",
       "      <th>name</th>\n",
       "      <th>uri</th>\n",
       "      <th>acousticness</th>\n",
       "      <th>danceability</th>\n",
       "      <th>energy</th>\n",
       "      <th>instrumentalness</th>\n",
       "      <th>liveness</th>\n",
       "      <th>loudness</th>\n",
       "      <th>speechiness</th>\n",
       "      <th>tempo</th>\n",
       "      <th>valence</th>\n",
       "      <th>popularity</th>\n",
       "      <th>lyrics</th>\n",
       "    </tr>\n",
       "  </thead>\n",
       "  <tbody>\n",
       "    <tr>\n",
       "      <th>113</th>\n",
       "      <td>Late Registration</td>\n",
       "      <td>20</td>\n",
       "      <td>0uGDH1WaBzmznj0ilMu4VI</td>\n",
       "      <td>Diamonds From Sierra Leone - Bonus Track</td>\n",
       "      <td>spotify:track:0uGDH1WaBzmznj0ilMu4VI</td>\n",
       "      <td>0.158</td>\n",
       "      <td>0.417</td>\n",
       "      <td>0.864</td>\n",
       "      <td>0.0</td>\n",
       "      <td>0.334</td>\n",
       "      <td>-3.207</td>\n",
       "      <td>0.284</td>\n",
       "      <td>96.486</td>\n",
       "      <td>0.546</td>\n",
       "      <td>24</td>\n",
       "      <td>No Lyrics Available</td>\n",
       "    </tr>\n",
       "    <tr>\n",
       "      <th>114</th>\n",
       "      <td>Late Registration</td>\n",
       "      <td>21</td>\n",
       "      <td>2KgNEIrXBkSsJRcXP3FVNC</td>\n",
       "      <td>Late</td>\n",
       "      <td>spotify:track:2KgNEIrXBkSsJRcXP3FVNC</td>\n",
       "      <td>0.283</td>\n",
       "      <td>0.300</td>\n",
       "      <td>0.865</td>\n",
       "      <td>0.0</td>\n",
       "      <td>0.295</td>\n",
       "      <td>-4.948</td>\n",
       "      <td>0.274</td>\n",
       "      <td>159.641</td>\n",
       "      <td>0.591</td>\n",
       "      <td>18</td>\n",
       "      <td>\\n\\n[Produced by Kanye West]\\n\\n[Intro]\\nLittl...</td>\n",
       "    </tr>\n",
       "  </tbody>\n",
       "</table>\n",
       "</div>"
      ],
      "text/plain": [
       "                 album  track_number                      id  \\\n",
       "113  Late Registration            20  0uGDH1WaBzmznj0ilMu4VI   \n",
       "114  Late Registration            21  2KgNEIrXBkSsJRcXP3FVNC   \n",
       "\n",
       "                                         name  \\\n",
       "113  Diamonds From Sierra Leone - Bonus Track   \n",
       "114                                      Late   \n",
       "\n",
       "                                      uri  acousticness  danceability  energy  \\\n",
       "113  spotify:track:0uGDH1WaBzmznj0ilMu4VI         0.158         0.417   0.864   \n",
       "114  spotify:track:2KgNEIrXBkSsJRcXP3FVNC         0.283         0.300   0.865   \n",
       "\n",
       "     instrumentalness  liveness  loudness  speechiness    tempo  valence  \\\n",
       "113               0.0     0.334    -3.207        0.284   96.486    0.546   \n",
       "114               0.0     0.295    -4.948        0.274  159.641    0.591   \n",
       "\n",
       "     popularity                                             lyrics  \n",
       "113          24                                No Lyrics Available  \n",
       "114          18  \\n\\n[Produced by Kanye West]\\n\\n[Intro]\\nLittl...  "
      ]
     },
     "execution_count": 96,
     "metadata": {},
     "output_type": "execute_result"
    }
   ],
   "source": [
    "all_songs_df.tail(2)"
   ]
  },
  {
   "cell_type": "code",
   "execution_count": 98,
   "metadata": {
    "scrolled": true
   },
   "outputs": [],
   "source": [
    "for x in range(0,len(all_songs_df)):\n",
    "    all_songs_df.loc[x, 'lyrics'] = all_songs_df.loc[x, 'lyrics'].replace('\\n', ' ')\n",
    "    all_songs_df.loc[x, 'lyrics'] = re.sub(r'\\[(?:[^\\]|]*\\|)?([^\\]|]*)\\]', '', all_songs_df.loc[x, 'lyrics'])"
   ]
  },
  {
   "cell_type": "code",
   "execution_count": 109,
   "metadata": {},
   "outputs": [],
   "source": [
    "all_songs_df['nlp'] = ''\n",
    "for x in range(0,len(all_songs_df)):\n",
    "    nlp_lyric = nlp(all_songs_df.loc[x, 'lyrics'])\n",
    "    lemma_lyric = [token.lemma_ for token in nlp_lyric\n",
    "                             if not token.is_punct\n",
    "                             and not token.is_stop]\n",
    "    doc_string = ''\n",
    "    for item in lemma_lyric:\n",
    "        doc_string = doc_string + ' ' + item\n",
    "    all_songs_df.loc[x, 'nlp'] = doc_string"
   ]
  },
  {
   "cell_type": "code",
   "execution_count": 111,
   "metadata": {
    "scrolled": false
   },
   "outputs": [
    {
     "data": {
      "text/html": [
       "<div>\n",
       "<style scoped>\n",
       "    .dataframe tbody tr th:only-of-type {\n",
       "        vertical-align: middle;\n",
       "    }\n",
       "\n",
       "    .dataframe tbody tr th {\n",
       "        vertical-align: top;\n",
       "    }\n",
       "\n",
       "    .dataframe thead th {\n",
       "        text-align: right;\n",
       "    }\n",
       "</style>\n",
       "<table border=\"1\" class=\"dataframe\">\n",
       "  <thead>\n",
       "    <tr style=\"text-align: right;\">\n",
       "      <th></th>\n",
       "      <th>album</th>\n",
       "      <th>track_number</th>\n",
       "      <th>id</th>\n",
       "      <th>name</th>\n",
       "      <th>uri</th>\n",
       "      <th>acousticness</th>\n",
       "      <th>danceability</th>\n",
       "      <th>energy</th>\n",
       "      <th>instrumentalness</th>\n",
       "      <th>liveness</th>\n",
       "      <th>loudness</th>\n",
       "      <th>speechiness</th>\n",
       "      <th>tempo</th>\n",
       "      <th>valence</th>\n",
       "      <th>popularity</th>\n",
       "      <th>lyrics</th>\n",
       "      <th>nlp</th>\n",
       "    </tr>\n",
       "  </thead>\n",
       "  <tbody>\n",
       "    <tr>\n",
       "      <th>0</th>\n",
       "      <td>KIDS SEE GHOSTS</td>\n",
       "      <td>1</td>\n",
       "      <td>3aUFrxO1B8EW63QchEl3wX</td>\n",
       "      <td>Feel The Love</td>\n",
       "      <td>spotify:track:3aUFrxO1B8EW63QchEl3wX</td>\n",
       "      <td>0.126</td>\n",
       "      <td>0.580</td>\n",
       "      <td>0.469</td>\n",
       "      <td>0.000073</td>\n",
       "      <td>0.099</td>\n",
       "      <td>-5.946</td>\n",
       "      <td>0.104</td>\n",
       "      <td>110.573</td>\n",
       "      <td>0.369</td>\n",
       "      <td>70</td>\n",
       "      <td>No Lyrics Available</td>\n",
       "      <td>no lyrics available</td>\n",
       "    </tr>\n",
       "    <tr>\n",
       "      <th>1</th>\n",
       "      <td>KIDS SEE GHOSTS</td>\n",
       "      <td>2</td>\n",
       "      <td>7oHkit3F3vimtsBbnZkU0G</td>\n",
       "      <td>Fire</td>\n",
       "      <td>spotify:track:7oHkit3F3vimtsBbnZkU0G</td>\n",
       "      <td>0.472</td>\n",
       "      <td>0.709</td>\n",
       "      <td>0.751</td>\n",
       "      <td>0.000005</td>\n",
       "      <td>0.182</td>\n",
       "      <td>-3.801</td>\n",
       "      <td>0.160</td>\n",
       "      <td>104.999</td>\n",
       "      <td>0.370</td>\n",
       "      <td>65</td>\n",
       "      <td>No Lyrics Available</td>\n",
       "      <td>no lyrics available</td>\n",
       "    </tr>\n",
       "    <tr>\n",
       "      <th>2</th>\n",
       "      <td>KIDS SEE GHOSTS</td>\n",
       "      <td>3</td>\n",
       "      <td>6JyEh4kl9DLwmSAoNDRn5b</td>\n",
       "      <td>4th Dimension</td>\n",
       "      <td>spotify:track:6JyEh4kl9DLwmSAoNDRn5b</td>\n",
       "      <td>0.278</td>\n",
       "      <td>0.765</td>\n",
       "      <td>0.542</td>\n",
       "      <td>0.000019</td>\n",
       "      <td>0.609</td>\n",
       "      <td>-6.755</td>\n",
       "      <td>0.390</td>\n",
       "      <td>171.945</td>\n",
       "      <td>0.734</td>\n",
       "      <td>71</td>\n",
       "      <td>No Lyrics Available</td>\n",
       "      <td>no lyrics available</td>\n",
       "    </tr>\n",
       "  </tbody>\n",
       "</table>\n",
       "</div>"
      ],
      "text/plain": [
       "             album  track_number                      id           name  \\\n",
       "0  KIDS SEE GHOSTS             1  3aUFrxO1B8EW63QchEl3wX  Feel The Love   \n",
       "1  KIDS SEE GHOSTS             2  7oHkit3F3vimtsBbnZkU0G           Fire   \n",
       "2  KIDS SEE GHOSTS             3  6JyEh4kl9DLwmSAoNDRn5b  4th Dimension   \n",
       "\n",
       "                                    uri  acousticness  danceability  energy  \\\n",
       "0  spotify:track:3aUFrxO1B8EW63QchEl3wX         0.126         0.580   0.469   \n",
       "1  spotify:track:7oHkit3F3vimtsBbnZkU0G         0.472         0.709   0.751   \n",
       "2  spotify:track:6JyEh4kl9DLwmSAoNDRn5b         0.278         0.765   0.542   \n",
       "\n",
       "   instrumentalness  liveness  loudness  speechiness    tempo  valence  \\\n",
       "0          0.000073     0.099    -5.946        0.104  110.573    0.369   \n",
       "1          0.000005     0.182    -3.801        0.160  104.999    0.370   \n",
       "2          0.000019     0.609    -6.755        0.390  171.945    0.734   \n",
       "\n",
       "   popularity               lyrics                   nlp  \n",
       "0          70  No Lyrics Available   no lyrics available  \n",
       "1          65  No Lyrics Available   no lyrics available  \n",
       "2          71  No Lyrics Available   no lyrics available  "
      ]
     },
     "execution_count": 111,
     "metadata": {},
     "output_type": "execute_result"
    }
   ],
   "source": [
    "all_songs_df.head(3)"
   ]
  },
  {
   "cell_type": "code",
   "execution_count": 112,
   "metadata": {
    "scrolled": true
   },
   "outputs": [
    {
     "name": "stdout",
     "output_type": "stream",
     "text": [
      "Number of features: 2004\n"
     ]
    }
   ],
   "source": [
    "#Create tf-idf matrix from lyrics\n",
    "vectorizer = TfidfVectorizer(max_df=0.5, #Drop words that occur in more than half the paragraphs\n",
    "                             min_df=3, #Only use words that appear at least three times\n",
    "                             stop_words='english', \n",
    "                             lowercase=True, #convert everything to lower case \n",
    "                             use_idf=True,\n",
    "                             norm=u'l2', #Applies a correction factor so that longer songs and shorter songs get treated equally\n",
    "                             smooth_idf=True #Prevents divide-by-zero errors\n",
    "                            )\n",
    "\n",
    "songs_tfidf=vectorizer.fit_transform(all_songs_df['lyrics'])\n",
    "print(\"Number of features: %d\" % songs_tfidf.get_shape()[1])\n",
    "\n",
    "#Reshapes the vectorizer output into something people can read\n",
    "songs_tfidf_csr = songs_tfidf.tocsr()\n",
    "\n",
    "#Number of songs\n",
    "n = songs_tfidf_csr.shape[0]\n",
    "#A list of dictionaries, one per song\n",
    "tfidf_by_song = [{} for _ in range(0,n)]\n",
    "#List of features\n",
    "terms = vectorizer.get_feature_names()\n",
    "#For each song, lists the feature words and their tf-idf scores\n",
    "for i, j in zip(*songs_tfidf_csr.nonzero()):\n",
    "    tfidf_by_song[i][terms[j]] = songs_tfidf_csr[i, j]"
   ]
  },
  {
   "cell_type": "code",
   "execution_count": 113,
   "metadata": {},
   "outputs": [],
   "source": [
    "def word_topic(tfidf,solution, wordlist):\n",
    "    # Loading scores for each word on each topic/component.\n",
    "    words_by_topic=tfidf.T * solution\n",
    "    # Linking the loadings to the words in an easy-to-read way.\n",
    "    components=pd.DataFrame(words_by_topic,index=wordlist)\n",
    "    return components\n",
    "\n",
    "# Extracts the top N words and their loadings for each topic.\n",
    "def top_words(components, n_top_words):\n",
    "    n_topics = range(components.shape[1])\n",
    "    index= np.repeat(n_topics, n_top_words, axis=0)\n",
    "    topwords=pd.Series(index=index)\n",
    "    for column in range(components.shape[1]):\n",
    "        # Sort the column so that highest loadings are at the top.\n",
    "        sortedwords=components.iloc[:,column].sort_values(ascending=False)\n",
    "        # Choose the N highest loadings.\n",
    "        chosen=sortedwords[:n_top_words]\n",
    "        # Combine loading and index into a string.\n",
    "        chosenlist=chosen.index +\" \"+round(chosen,2).map(str) \n",
    "        topwords.loc[column]=chosenlist\n",
    "    return(topwords)"
   ]
  },
  {
   "cell_type": "code",
   "execution_count": 114,
   "metadata": {},
   "outputs": [],
   "source": [
    "ntopics = 10\n",
    "nmf = NMF(alpha=0.0, \n",
    "          init='nndsvdar', # how starting value are calculated\n",
    "          l1_ratio=0.0, # Sets whether regularization is L2 (0), L1 (1), or a combination (values between 0 and 1)\n",
    "          max_iter=200, # when to stop even if the model is not converging (to prevent running forever)\n",
    "          n_components=ntopics, \n",
    "          random_state=0, \n",
    "          solver='cd', # Use Coordinate Descent to solve\n",
    "          tol=0.0001, # model will stop if tfidf-WH <= tol\n",
    "          verbose=0 # amount of output to give while iterating\n",
    "         )\n",
    "songs_nmf = nmf.fit_transform(songs_tfidf) \n",
    "\n",
    "components_nmf = word_topic(songs_tfidf, songs_nmf, terms)"
   ]
  },
  {
   "cell_type": "code",
   "execution_count": 115,
   "metadata": {
    "scrolled": false
   },
   "outputs": [
    {
     "data": {
      "text/html": [
       "<div>\n",
       "<style scoped>\n",
       "    .dataframe tbody tr th:only-of-type {\n",
       "        vertical-align: middle;\n",
       "    }\n",
       "\n",
       "    .dataframe tbody tr th {\n",
       "        vertical-align: top;\n",
       "    }\n",
       "\n",
       "    .dataframe thead th {\n",
       "        text-align: right;\n",
       "    }\n",
       "</style>\n",
       "<table border=\"1\" class=\"dataframe\">\n",
       "  <thead>\n",
       "    <tr style=\"text-align: right;\">\n",
       "      <th></th>\n",
       "      <th>topic1</th>\n",
       "      <th>topic2</th>\n",
       "      <th>topic3</th>\n",
       "      <th>topic4</th>\n",
       "      <th>topic5</th>\n",
       "      <th>topic6</th>\n",
       "      <th>topic7</th>\n",
       "      <th>topic8</th>\n",
       "      <th>topic9</th>\n",
       "      <th>topic10</th>\n",
       "    </tr>\n",
       "  </thead>\n",
       "  <tbody>\n",
       "    <tr>\n",
       "      <th>0</th>\n",
       "      <td>0.499995</td>\n",
       "      <td>0.0</td>\n",
       "      <td>0.0</td>\n",
       "      <td>0.0</td>\n",
       "      <td>0.0</td>\n",
       "      <td>0.0</td>\n",
       "      <td>0.0</td>\n",
       "      <td>0.0</td>\n",
       "      <td>0.0</td>\n",
       "      <td>0.0</td>\n",
       "    </tr>\n",
       "    <tr>\n",
       "      <th>1</th>\n",
       "      <td>0.499995</td>\n",
       "      <td>0.0</td>\n",
       "      <td>0.0</td>\n",
       "      <td>0.0</td>\n",
       "      <td>0.0</td>\n",
       "      <td>0.0</td>\n",
       "      <td>0.0</td>\n",
       "      <td>0.0</td>\n",
       "      <td>0.0</td>\n",
       "      <td>0.0</td>\n",
       "    </tr>\n",
       "    <tr>\n",
       "      <th>2</th>\n",
       "      <td>0.499995</td>\n",
       "      <td>0.0</td>\n",
       "      <td>0.0</td>\n",
       "      <td>0.0</td>\n",
       "      <td>0.0</td>\n",
       "      <td>0.0</td>\n",
       "      <td>0.0</td>\n",
       "      <td>0.0</td>\n",
       "      <td>0.0</td>\n",
       "      <td>0.0</td>\n",
       "    </tr>\n",
       "    <tr>\n",
       "      <th>3</th>\n",
       "      <td>0.499995</td>\n",
       "      <td>0.0</td>\n",
       "      <td>0.0</td>\n",
       "      <td>0.0</td>\n",
       "      <td>0.0</td>\n",
       "      <td>0.0</td>\n",
       "      <td>0.0</td>\n",
       "      <td>0.0</td>\n",
       "      <td>0.0</td>\n",
       "      <td>0.0</td>\n",
       "    </tr>\n",
       "    <tr>\n",
       "      <th>4</th>\n",
       "      <td>0.499995</td>\n",
       "      <td>0.0</td>\n",
       "      <td>0.0</td>\n",
       "      <td>0.0</td>\n",
       "      <td>0.0</td>\n",
       "      <td>0.0</td>\n",
       "      <td>0.0</td>\n",
       "      <td>0.0</td>\n",
       "      <td>0.0</td>\n",
       "      <td>0.0</td>\n",
       "    </tr>\n",
       "  </tbody>\n",
       "</table>\n",
       "</div>"
      ],
      "text/plain": [
       "     topic1  topic2  topic3  topic4  topic5  topic6  topic7  topic8  topic9  \\\n",
       "0  0.499995     0.0     0.0     0.0     0.0     0.0     0.0     0.0     0.0   \n",
       "1  0.499995     0.0     0.0     0.0     0.0     0.0     0.0     0.0     0.0   \n",
       "2  0.499995     0.0     0.0     0.0     0.0     0.0     0.0     0.0     0.0   \n",
       "3  0.499995     0.0     0.0     0.0     0.0     0.0     0.0     0.0     0.0   \n",
       "4  0.499995     0.0     0.0     0.0     0.0     0.0     0.0     0.0     0.0   \n",
       "\n",
       "   topic10  \n",
       "0      0.0  \n",
       "1      0.0  \n",
       "2      0.0  \n",
       "3      0.0  \n",
       "4      0.0  "
      ]
     },
     "execution_count": 115,
     "metadata": {},
     "output_type": "execute_result"
    }
   ],
   "source": [
    "topic_titles = ['topic1', 'topic2', 'topic3', 'topic4', 'topic5', 'topic6', 'topic7', 'topic8', 'topic9', 'topic10']\n",
    "topics_df = pd.DataFrame(songs_nmf, columns = topic_titles)\n",
    "topics_df.head()"
   ]
  },
  {
   "cell_type": "code",
   "execution_count": 116,
   "metadata": {
    "scrolled": false
   },
   "outputs": [
    {
     "data": {
      "image/png": "[encoded data removed]",
      "text/plain": [
       "<Figure size 1080x576 with 1 Axes>"
      ]
     },
     "metadata": {
      "needs_background": "light"
     },
     "output_type": "display_data"
    }
   ],
   "source": [
    "topics_viz = topics_df.idxmax(axis=1)\n",
    "plt.figure(figsize = (15,8))\n",
    "sns.countplot(list(topics_viz))\n",
    "plt.show()"
   ]
  },
  {
   "cell_type": "code",
   "execution_count": 117,
   "metadata": {},
   "outputs": [
    {
     "data": {
      "image/png": "[encoded data removed]",
      "text/plain": [
       "<Figure size 1080x576 with 1 Axes>"
      ]
     },
     "metadata": {
      "needs_background": "light"
     },
     "output_type": "display_data"
    }
   ],
   "source": [
    "plt.figure(figsize = (15,8))\n",
    "sns.boxplot(data = topics_df)\n",
    "plt.show()"
   ]
  },
  {
   "cell_type": "code",
   "execution_count": 118,
   "metadata": {},
   "outputs": [],
   "source": [
    "all_songs_features_df = pd.concat([all_songs_df, topics_df], axis = 1).reset_index()"
   ]
  },
  {
   "cell_type": "code",
   "execution_count": 119,
   "metadata": {},
   "outputs": [
    {
     "data": {
      "text/html": [
       "<div>\n",
       "<style scoped>\n",
       "    .dataframe tbody tr th:only-of-type {\n",
       "        vertical-align: middle;\n",
       "    }\n",
       "\n",
       "    .dataframe tbody tr th {\n",
       "        vertical-align: top;\n",
       "    }\n",
       "\n",
       "    .dataframe thead th {\n",
       "        text-align: right;\n",
       "    }\n",
       "</style>\n",
       "<table border=\"1\" class=\"dataframe\">\n",
       "  <thead>\n",
       "    <tr style=\"text-align: right;\">\n",
       "      <th></th>\n",
       "      <th>index</th>\n",
       "      <th>album</th>\n",
       "      <th>track_number</th>\n",
       "      <th>id</th>\n",
       "      <th>name</th>\n",
       "      <th>uri</th>\n",
       "      <th>acousticness</th>\n",
       "      <th>danceability</th>\n",
       "      <th>energy</th>\n",
       "      <th>instrumentalness</th>\n",
       "      <th>...</th>\n",
       "      <th>topic1</th>\n",
       "      <th>topic2</th>\n",
       "      <th>topic3</th>\n",
       "      <th>topic4</th>\n",
       "      <th>topic5</th>\n",
       "      <th>topic6</th>\n",
       "      <th>topic7</th>\n",
       "      <th>topic8</th>\n",
       "      <th>topic9</th>\n",
       "      <th>topic10</th>\n",
       "    </tr>\n",
       "  </thead>\n",
       "  <tbody>\n",
       "    <tr>\n",
       "      <th>0</th>\n",
       "      <td>0</td>\n",
       "      <td>KIDS SEE GHOSTS</td>\n",
       "      <td>1</td>\n",
       "      <td>3aUFrxO1B8EW63QchEl3wX</td>\n",
       "      <td>Feel The Love</td>\n",
       "      <td>spotify:track:3aUFrxO1B8EW63QchEl3wX</td>\n",
       "      <td>0.126</td>\n",
       "      <td>0.580</td>\n",
       "      <td>0.469</td>\n",
       "      <td>0.000073</td>\n",
       "      <td>...</td>\n",
       "      <td>0.499995</td>\n",
       "      <td>0.0</td>\n",
       "      <td>0.0</td>\n",
       "      <td>0.0</td>\n",
       "      <td>0.0</td>\n",
       "      <td>0.0</td>\n",
       "      <td>0.0</td>\n",
       "      <td>0.0</td>\n",
       "      <td>0.0</td>\n",
       "      <td>0.0</td>\n",
       "    </tr>\n",
       "    <tr>\n",
       "      <th>1</th>\n",
       "      <td>1</td>\n",
       "      <td>KIDS SEE GHOSTS</td>\n",
       "      <td>2</td>\n",
       "      <td>7oHkit3F3vimtsBbnZkU0G</td>\n",
       "      <td>Fire</td>\n",
       "      <td>spotify:track:7oHkit3F3vimtsBbnZkU0G</td>\n",
       "      <td>0.472</td>\n",
       "      <td>0.709</td>\n",
       "      <td>0.751</td>\n",
       "      <td>0.000005</td>\n",
       "      <td>...</td>\n",
       "      <td>0.499995</td>\n",
       "      <td>0.0</td>\n",
       "      <td>0.0</td>\n",
       "      <td>0.0</td>\n",
       "      <td>0.0</td>\n",
       "      <td>0.0</td>\n",
       "      <td>0.0</td>\n",
       "      <td>0.0</td>\n",
       "      <td>0.0</td>\n",
       "      <td>0.0</td>\n",
       "    </tr>\n",
       "    <tr>\n",
       "      <th>2</th>\n",
       "      <td>2</td>\n",
       "      <td>KIDS SEE GHOSTS</td>\n",
       "      <td>3</td>\n",
       "      <td>6JyEh4kl9DLwmSAoNDRn5b</td>\n",
       "      <td>4th Dimension</td>\n",
       "      <td>spotify:track:6JyEh4kl9DLwmSAoNDRn5b</td>\n",
       "      <td>0.278</td>\n",
       "      <td>0.765</td>\n",
       "      <td>0.542</td>\n",
       "      <td>0.000019</td>\n",
       "      <td>...</td>\n",
       "      <td>0.499995</td>\n",
       "      <td>0.0</td>\n",
       "      <td>0.0</td>\n",
       "      <td>0.0</td>\n",
       "      <td>0.0</td>\n",
       "      <td>0.0</td>\n",
       "      <td>0.0</td>\n",
       "      <td>0.0</td>\n",
       "      <td>0.0</td>\n",
       "      <td>0.0</td>\n",
       "    </tr>\n",
       "  </tbody>\n",
       "</table>\n",
       "<p>3 rows × 28 columns</p>\n",
       "</div>"
      ],
      "text/plain": [
       "   index            album  track_number                      id  \\\n",
       "0      0  KIDS SEE GHOSTS             1  3aUFrxO1B8EW63QchEl3wX   \n",
       "1      1  KIDS SEE GHOSTS             2  7oHkit3F3vimtsBbnZkU0G   \n",
       "2      2  KIDS SEE GHOSTS             3  6JyEh4kl9DLwmSAoNDRn5b   \n",
       "\n",
       "            name                                   uri  acousticness  \\\n",
       "0  Feel The Love  spotify:track:3aUFrxO1B8EW63QchEl3wX         0.126   \n",
       "1           Fire  spotify:track:7oHkit3F3vimtsBbnZkU0G         0.472   \n",
       "2  4th Dimension  spotify:track:6JyEh4kl9DLwmSAoNDRn5b         0.278   \n",
       "\n",
       "   danceability  energy  instrumentalness   ...       topic1  topic2  topic3  \\\n",
       "0         0.580   0.469          0.000073   ...     0.499995     0.0     0.0   \n",
       "1         0.709   0.751          0.000005   ...     0.499995     0.0     0.0   \n",
       "2         0.765   0.542          0.000019   ...     0.499995     0.0     0.0   \n",
       "\n",
       "   topic4  topic5  topic6 topic7 topic8  topic9  topic10  \n",
       "0     0.0     0.0     0.0    0.0    0.0     0.0      0.0  \n",
       "1     0.0     0.0     0.0    0.0    0.0     0.0      0.0  \n",
       "2     0.0     0.0     0.0    0.0    0.0     0.0      0.0  \n",
       "\n",
       "[3 rows x 28 columns]"
      ]
     },
     "execution_count": 119,
     "metadata": {},
     "output_type": "execute_result"
    }
   ],
   "source": [
    "all_songs_features_df.head(3)"
   ]
  },
  {
   "cell_type": "markdown",
   "metadata": {},
   "source": [
    "## Prepare the data for modeling. We will omit the unnecessary features and scale features."
   ]
  },
  {
   "cell_type": "code",
   "execution_count": 120,
   "metadata": {},
   "outputs": [
    {
     "name": "stdout",
     "output_type": "stream",
     "text": [
      "   acousticness  danceability  energy  instrumentalness  liveness  loudness  \\\n",
      "0       0.12600         0.580   0.469          0.000073     0.099    -5.946   \n",
      "1       0.47200         0.709   0.751          0.000005     0.182    -3.801   \n",
      "2       0.27800         0.765   0.542          0.000019     0.609    -6.755   \n",
      "3       0.00457         0.334   0.810          0.000000     0.158    -4.855   \n",
      "4       0.33900         0.585   0.597          0.040400     0.195    -7.499   \n",
      "\n",
      "   speechiness    tempo  valence    topic1  topic2  topic3  topic4  topic5  \\\n",
      "0       0.1040  110.573    0.369  0.499995     0.0     0.0     0.0     0.0   \n",
      "1       0.1600  104.999    0.370  0.499995     0.0     0.0     0.0     0.0   \n",
      "2       0.3900  171.945    0.734  0.499995     0.0     0.0     0.0     0.0   \n",
      "3       0.0632  151.643    0.306  0.499995     0.0     0.0     0.0     0.0   \n",
      "4       0.0370  100.051    0.227  0.499995     0.0     0.0     0.0     0.0   \n",
      "\n",
      "   topic6  topic7  topic8  topic9  topic10  \n",
      "0     0.0     0.0     0.0     0.0      0.0  \n",
      "1     0.0     0.0     0.0     0.0      0.0  \n",
      "2     0.0     0.0     0.0     0.0      0.0  \n",
      "3     0.0     0.0     0.0     0.0      0.0  \n",
      "4     0.0     0.0     0.0     0.0      0.0  \n"
     ]
    }
   ],
   "source": [
    "songs_to_cluster_df = all_songs_features_df.drop(columns = ['id', \n",
    "                                                            'index', \n",
    "                                                            'album', \n",
    "                                                            'track_number', \n",
    "                                                            'name', \n",
    "                                                            'uri', \n",
    "                                                            'popularity', \n",
    "                                                            'lyrics', \n",
    "                                                            'nlp'])\n",
    "print(songs_to_cluster_df.head())"
   ]
  },
  {
   "cell_type": "code",
   "execution_count": 121,
   "metadata": {
    "scrolled": false
   },
   "outputs": [],
   "source": [
    "X = songs_to_cluster_df\n",
    "\n",
    "MM = MinMaxScaler()\n",
    "X_mm = pd.DataFrame(MM.fit_transform(X), columns = X.columns)\n",
    "\n",
    "SS = StandardScaler()\n",
    "X_ss = pd.DataFrame(SS.fit_transform(X), columns = X.columns)"
   ]
  },
  {
   "cell_type": "code",
   "execution_count": 122,
   "metadata": {},
   "outputs": [
    {
     "data": {
      "image/png": "[encoded data removed]",
      "text/plain": [
       "<Figure size 1080x864 with 20 Axes>"
      ]
     },
     "metadata": {
      "needs_background": "light"
     },
     "output_type": "display_data"
    }
   ],
   "source": [
    "X_mm.hist(bins = 20, figsize=(15,12))\n",
    "plt.show()"
   ]
  },
  {
   "cell_type": "code",
   "execution_count": 123,
   "metadata": {},
   "outputs": [
    {
     "data": {
      "image/png": "[encoded data removed]",
      "text/plain": [
       "<Figure size 1080x864 with 20 Axes>"
      ]
     },
     "metadata": {
      "needs_background": "light"
     },
     "output_type": "display_data"
    }
   ],
   "source": [
    "X_ss.hist(bins = 20, figsize=(15,12))\n",
    "plt.show()"
   ]
  },
  {
   "cell_type": "markdown",
   "metadata": {},
   "source": [
    "## We are going to test multiple clustering models to see if we can get small and dense clusters. "
   ]
  },
  {
   "cell_type": "code",
   "execution_count": 124,
   "metadata": {
    "scrolled": false
   },
   "outputs": [
    {
     "name": "stdout",
     "output_type": "stream",
     "text": [
      "Similar songs to Good Morning are:\n",
      "\n",
      "Wouldn't Leave\n",
      "Facts (Charlie Heat Version)\n",
      "Blood On The Leaves\n",
      "Guilt Trip\n",
      "Bound 2\n",
      "I Wonder\n",
      "Good Life\n",
      "Barry Bonds\n",
      "Late\n"
     ]
    }
   ],
   "source": [
    "km = KMeans(n_clusters=15, random_state=42).fit(X_mm)\n",
    "km_labels = km.labels_\n",
    "songs_to_cluster_df['name'] = all_songs_features_df['name']\n",
    "songs_to_cluster_df['cluster'] = km_labels\n",
    "\n",
    "matching_cluster = songs_to_cluster_df[songs_to_cluster_df['name'] == search_song_name]['cluster']\n",
    "val = matching_cluster.values\n",
    "val2 = float(val[0])\n",
    "similar_songs = songs_to_cluster_df[songs_to_cluster_df['cluster'] == val2]['name'].values\n",
    "similar_songs = list(filter(lambda x: x != search_song_name, similar_songs))\n",
    "print('Similar songs to {} are:\\n'.format(search_song_name))\n",
    "for x in similar_songs:\n",
    "    print(x)"
   ]
  },
  {
   "cell_type": "code",
   "execution_count": 125,
   "metadata": {},
   "outputs": [
    {
     "name": "stdout",
     "output_type": "stream",
     "text": [
      "Number of estimated clusters: 8\n",
      "\n",
      "\n",
      "Similar songs to Good Morning are:\n",
      "\n",
      "I Thought About Killing You\n",
      "Yikes\n",
      "All Mine\n",
      "Wouldn't Leave\n",
      "No Mistakes\n",
      "Ghost Town\n",
      "Violent Crimes\n",
      "Ultralight Beam\n",
      "Father Stretch My Hands Pt. 1\n",
      "Pt. 2\n",
      "Famous\n",
      "Feedback\n",
      "Low Lights\n",
      "Highlights\n",
      "Freestyle 4\n",
      "I Love Kanye\n",
      "Waves\n",
      "FML\n",
      "Real Friends\n",
      "Wolves\n",
      "Frank's Track\n",
      "30 Hours\n",
      "No More Parties In LA\n",
      "Facts (Charlie Heat Version)\n",
      "Fade\n",
      "On Sight\n",
      "Black Skinhead\n",
      "I Am A God\n",
      "New Slaves\n",
      "Hold My Liquor\n",
      "I'm In It\n",
      "Blood On The Leaves\n",
      "Guilt Trip\n",
      "Send It Up\n",
      "Bound 2\n",
      "Say You Will\n",
      "Welcome To Heartbreak\n",
      "Heartless\n",
      "Amazing\n",
      "Love Lockdown\n",
      "Paranoid\n",
      "RoboCop\n",
      "Street Lights\n",
      "Bad News\n",
      "See You In My Nightmares\n",
      "Coldest Winter\n",
      "Pinocchio Story\n",
      "Champion\n",
      "Stronger\n",
      "I Wonder\n",
      "Good Life\n",
      "Can't Tell Me Nothing\n",
      "Barry Bonds\n",
      "Drunk and Hot Girls\n",
      "Flashing Lights\n",
      "Everything I Am\n",
      "The Glory\n",
      "Homecoming\n",
      "Big Brother\n",
      "Crack Music - Live At Abbey Road Studios\n",
      "Through The Wire - Live At Abbey Road Studios\n",
      "Workout Plan - Live At Abbey Road Studios\n",
      "Heard 'Em Say - Live At Abbey Road Studios\n",
      "Gone - Live At Abbey Road Studios\n",
      "Jesus Walks - Live At Abbey Road Studios\n",
      "Gold Digger - AOL Sessions\n",
      "Heard 'Em Say\n",
      "Gold Digger\n",
      "My Way Home\n",
      "Crack Music\n",
      "Roses\n",
      "Bring Me Down\n",
      "Addiction\n",
      "We Major\n",
      "Hey Mama\n",
      "Celebration\n",
      "Gone\n",
      "Late\n"
     ]
    }
   ],
   "source": [
    "bandwidth = estimate_bandwidth(X_mm, quantile=0.2, n_samples=50)\n",
    "\n",
    "ms = MeanShift(bandwidth=bandwidth, bin_seeding=True)\n",
    "ms.fit(X_mm)\n",
    "ms_labels = ms.labels_\n",
    "cluster_centers = ms.cluster_centers_\n",
    "n_clusters_ = len(np.unique(ms_labels))\n",
    "\n",
    "print(\"Number of estimated clusters: {}\".format(n_clusters_))\n",
    "print('\\n')\n",
    "\n",
    "songs_to_cluster_df2 = X\n",
    "songs_to_cluster_df2['name'] = all_songs_features_df['name']\n",
    "songs_to_cluster_df2['cluster'] = ms_labels\n",
    "\n",
    "matching_cluster2 = songs_to_cluster_df2[songs_to_cluster_df2['name'] == search_song_name]['cluster']\n",
    "val = matching_cluster2.values\n",
    "val2 = float(val[0])\n",
    "similar_songs = songs_to_cluster_df2[songs_to_cluster_df2['cluster'] == val2]['name'].values\n",
    "similar_songs = list(filter(lambda x: x != search_song_name, similar_songs))\n",
    "print('Similar songs to {} are:\\n'.format(search_song_name))\n",
    "for x in similar_songs:\n",
    "    print(x)"
   ]
  },
  {
   "cell_type": "code",
   "execution_count": 126,
   "metadata": {},
   "outputs": [
    {
     "name": "stdout",
     "output_type": "stream",
     "text": [
      "Similar songs to Good Morning are:\n",
      "\n",
      "Wouldn't Leave\n",
      "Blood On The Leaves\n",
      "Guilt Trip\n",
      "Say You Will\n",
      "RoboCop\n",
      "Street Lights\n",
      "Coldest Winter\n",
      "I Wonder\n",
      "Good Life\n",
      "Barry Bonds\n",
      "Addiction\n",
      "Late\n"
     ]
    }
   ],
   "source": [
    "n_clusters=20\n",
    "sc = SpectralClustering(n_clusters=n_clusters)\n",
    "sc.fit(X_mm)\n",
    "predict=sc.fit_predict(X_mm)\n",
    "sc_labels = sc.labels_\n",
    "\n",
    "songs_to_cluster_df3 = X\n",
    "songs_to_cluster_df3['name'] = all_songs_features_df['name']\n",
    "songs_to_cluster_df3['cluster'] = sc_labels\n",
    "\n",
    "matching_cluster3 = songs_to_cluster_df3[songs_to_cluster_df3['name'] == search_song_name]['cluster']\n",
    "val = matching_cluster3.values\n",
    "val2 = float(val[0])\n",
    "similar_songs = songs_to_cluster_df3[songs_to_cluster_df3['cluster'] == val2]['name'].values\n",
    "similar_songs = list(filter(lambda x: x != search_song_name, similar_songs))\n",
    "print('Similar songs to {} are:\\n'.format(search_song_name))\n",
    "for x in similar_songs:\n",
    "    print(x)"
   ]
  },
  {
   "cell_type": "code",
   "execution_count": 127,
   "metadata": {
    "scrolled": true
   },
   "outputs": [
    {
     "name": "stdout",
     "output_type": "stream",
     "text": [
      "Estimated number of clusters: 17\n",
      "\n",
      "\n",
      "Similar songs to Good Morning are:\n",
      "\n",
      "Blood On The Leaves\n",
      "Guilt Trip\n",
      "Say You Will\n",
      "I Wonder\n",
      "Good Life\n",
      "Barry Bonds\n",
      "Late\n"
     ]
    }
   ],
   "source": [
    "af = AffinityPropagation().fit(X_mm)\n",
    "cluster_centers_indices = af.cluster_centers_indices_\n",
    "n_clusters_ = len(cluster_centers_indices)\n",
    "af_labels = af.labels_\n",
    "\n",
    "print('Estimated number of clusters: {}'.format(n_clusters_))\n",
    "print('\\n')\n",
    "\n",
    "songs_to_cluster_df4 = X\n",
    "songs_to_cluster_df4['name'] = all_songs_features_df['name']\n",
    "songs_to_cluster_df4['cluster'] = af_labels\n",
    "\n",
    "matching_cluster4 = songs_to_cluster_df4[songs_to_cluster_df4['name'] == search_song_name]['cluster']\n",
    "val = matching_cluster4.values\n",
    "val2 = float(val[0])\n",
    "similar_songs = songs_to_cluster_df4[songs_to_cluster_df4['cluster'] == val2]['name'].values\n",
    "similar_songs = list(filter(lambda x: x != search_song_name, similar_songs))\n",
    "print('Similar songs to {} are:\\n'.format(search_song_name))\n",
    "for x in similar_songs:\n",
    "    print(x)"
   ]
  },
  {
   "cell_type": "markdown",
   "metadata": {},
   "source": [
    "## EVALUATION\n",
    "\n",
    "## We will use the silhouette score of each model to determine the density of each clustering model. "
   ]
  },
  {
   "cell_type": "code",
   "execution_count": 128,
   "metadata": {
    "scrolled": true
   },
   "outputs": [
    {
     "name": "stdout",
     "output_type": "stream",
     "text": [
      "Silhouette score for KMeans model is: 0.24142686789855886\n",
      "Silhouette score for MeanShift model is: 0.2911211917980263\n",
      "Silhouette score for Spectral Clustering model is: 0.22445669348834857\n",
      "Silhouette score for Affinity Propogation model is: 0.20605982011723484\n"
     ]
    }
   ],
   "source": [
    "print('Silhouette score for KMeans model is: {}'.format(metrics.silhouette_score(X_mm, km_labels, metric='euclidean')))\n",
    "print('Silhouette score for MeanShift model is: {}'.format(metrics.silhouette_score(X_mm, ms_labels, metric='euclidean')))\n",
    "print('Silhouette score for Spectral Clustering model is: {}'.format(metrics.silhouette_score(X_mm, sc_labels, metric='euclidean')))\n",
    "print('Silhouette score for Affinity Propogation model is: {}'.format(metrics.silhouette_score(X_mm, af_labels, metric='euclidean')))"
   ]
  },
  {
   "cell_type": "markdown",
   "metadata": {},
   "source": [
    "## Kanye West\n",
    "\n",
    "Using MinMax Scaling\n",
    "\n",
    "1) Silhouette score for KMeans model is: 0.22337234559773306\n",
    "\n",
    "2) Silhouette score for MeanShift model is: 0.2982274434906916\n",
    "\n",
    "3) Silhouette score for Spectral Clustering model is: 0.20813741892902718\n",
    "\n",
    "4) Silhouette score for Affinity Propogation model is: 0.20321722398704614\n",
    "\n",
    "Using Standard Scaling:\n",
    "\n",
    "1) Silhouette score for KMeans model is: 0.24012530708472773\n",
    "\n",
    "2) Silhouette score for MeanShift model is: 0.3287473098820351\n",
    "\n",
    "3) Silhouette score for Spectral Clustering model is: 0.18599909490701588\n",
    "\n",
    "4) Silhouette score for Affinity Propogation model is: 0.2333195584111986"
   ]
  },
  {
   "cell_type": "markdown",
   "metadata": {},
   "source": [
    "## J. Cole\n",
    "\n",
    "Using MinMax Scaling\n",
    "\n",
    "1) Silhouette score for KMeans model is: 0.18420105238667298\n",
    "\n",
    "2) Silhouette score for MeanShift model is: 0.24822123145863711\n",
    "\n",
    "3) Silhouette score for Spectral Clustering model is: 0.1604974530886869\n",
    "\n",
    "4) Silhouette score for Affinity Propogation model is: 0.18055907095736168\n",
    "\n",
    "Using Standard Scaling: \n",
    "\n",
    "1) Silhouette score for KMeans model is: 0.21115303691359658\n",
    "\n",
    "2) Silhouette score for MeanShift model is: 0.32859920464877945\n",
    "\n",
    "3) Silhouette score for Spectral Clustering model is: 0.014482321470335078\n",
    "\n",
    "4) Silhouette score for Affinity Propogation model is: 0.19495648033083743\n"
   ]
  },
  {
   "cell_type": "markdown",
   "metadata": {},
   "source": [
    "## Drake\n",
    "\n",
    "Using MinMax Scaling:\n",
    "\n",
    "1) Silhouette score for KMeans model is: 0.19410068031862962\n",
    "\n",
    "2) Silhouette score for MeanShift model is: 0.18726918654774388\n",
    "\n",
    "3) Silhouette score for Spectral Clustering model is: 0.1730656931972382\n",
    "\n",
    "4) Silhouette score for Affinity Propogation model is: 0.2143769174457621\n",
    "\n",
    "Using Standard Scaling:\n",
    "\n",
    "1) Silhouette score for KMeans model is: 0.2094410670217028\n",
    "\n",
    "2) Silhouette score for MeanShift model is: 0.1800110996448375\n",
    "\n",
    "3) Silhouette score for Spectral Clustering model is: -0.022400264520660112\n",
    "\n",
    "4) Silhouette score for Affinity Propogation model is: 0.20344656441157616\n"
   ]
  },
  {
   "cell_type": "markdown",
   "metadata": {},
   "source": [
    "## Kendrick Lamar\n",
    "\n",
    "Using MinMax Scaling:\n",
    "\n",
    "1) Silhouette score for KMeans model is: 0.2310038572911016 \n",
    "\n",
    "2) Silhouette score for MeanShift model is: 0.2583812767268565\n",
    "\n",
    "3) Silhouette score for Spectral Clustering model is: 0.16782641231630768\n",
    "\n",
    "4) Silhouette score for Affinity Propogation model is: 0.21892814384240145\n",
    "\n",
    "Using Standard Scaling:\n",
    "\n",
    "1) Silhouette score for KMeans model is: 0.19436021696022618\n",
    "\n",
    "2) Silhouette score for MeanShift model is: 0.23520029662184233\n",
    "\n",
    "3) Silhouette score for Spectral Clustering model is: 0.026675664382245265\n",
    "\n",
    "4) Silhouette score for Affinity Propogation model is: 0.18624359405857213\n"
   ]
  },
  {
   "cell_type": "code",
   "execution_count": 129,
   "metadata": {},
   "outputs": [
    {
     "name": "stdout",
     "output_type": "stream",
     "text": [
      "KMEANS CLUSTERING\n",
      "Kmeans using MinMax Scaling Mean: 0.2081694838985343\n",
      "Kmeans using MinMax Scaling Standard Deviation: 0.019525320454379713\n",
      "Kmeans using Standard Scaling Mean: 0.21376990699506332\n",
      "Kmeans using Standard Scaling Standard Deviation: 0.016559967132160763\n",
      "\n",
      "MEANSHIFT CLUSTERING\n",
      "MeanShift using MinMax Scaling Mean: 0.24802478455598226\n",
      "MeanShift using MinMax Scaling Standard Deviation: 0.03974558206557161\n",
      "MeanShift using Standard Scaling Mean: 0.2681394776993736\n",
      "MeanShift using Standard Scaling Standard Deviation: 0.06360088162372438\n",
      "\n",
      "SPECTRAL CLUSTERING\n",
      "Spectral Clustering using MinMax Scaling Mean: 0.17738174438281498\n",
      "Spectral Clustering using MinMax Scaling Standard Deviation: 0.018309311005846422\n",
      "Spectral Clustering using Standard Scaling Mean: 0.051189204059734025\n",
      "Spectral Clustering using Standard Scaling Standard Deviation: 0.07990216738792602\n",
      "\n",
      "AFFINITY PROPOGATION\n",
      "Affinity Propogation using MinMax Scaling Mean: 0.20427033905814282\n",
      "Affinity Propogation using MinMax Scaling Standard Deviation: 0.014835156336373913\n",
      "Affinity Propogation using Standard Scaling Mean: 0.20449154930304608\n",
      "Affinity Propogation using Standard Scaling Standard Deviation: 0.01772040852712083\n"
     ]
    }
   ],
   "source": [
    "KM_MM = [0.2310038572911016, 0.19410068031862962, 0.18420105238667298, 0.22337234559773306]\n",
    "MS_MM = [0.2583812767268565, 0.18726918654774388, 0.24822123145863711, 0.2982274434906916]\n",
    "SC_MM = [0.16782641231630768, 0.1730656931972382, 0.1604974530886869, 0.20813741892902718]\n",
    "AP_MM = [0.21892814384240145, 0.2143769174457621, 0.18055907095736168, 0.20321722398704614]\n",
    "\n",
    "KM_SS = [0.19436021696022618, 0.2094410670217028, 0.21115303691359658, 0.24012530708472773]\n",
    "MS_SS = [0.23520029662184233, 0.1800110996448375, 0.32859920464877945, 0.3287473098820351]\n",
    "SC_SS = [0.026675664382245265, -0.022400264520660112, 0.014482321470335078, 0.18599909490701588]\n",
    "AP_SS = [0.18624359405857213, 0.20344656441157616, 0.19495648033083743, 0.2333195584111986]\n",
    "\n",
    "print('KMEANS CLUSTERING')\n",
    "print('Kmeans using MinMax Scaling Mean: {}'.format(np.mean(KM_MM)))\n",
    "print('Kmeans using MinMax Scaling Standard Deviation: {}'.format(np.std(KM_MM)))\n",
    "print('Kmeans using Standard Scaling Mean: {}'.format(np.mean(KM_SS)))\n",
    "print('Kmeans using Standard Scaling Standard Deviation: {}'.format(np.std(KM_SS)))\n",
    "\n",
    "print('\\nMEANSHIFT CLUSTERING')\n",
    "print('MeanShift using MinMax Scaling Mean: {}'.format(np.mean(MS_MM)))\n",
    "print('MeanShift using MinMax Scaling Standard Deviation: {}'.format(np.std(MS_MM)))\n",
    "print('MeanShift using Standard Scaling Mean: {}'.format(np.mean(MS_SS)))\n",
    "print('MeanShift using Standard Scaling Standard Deviation: {}'.format(np.std(MS_SS)))\n",
    "\n",
    "print('\\nSPECTRAL CLUSTERING')\n",
    "print('Spectral Clustering using MinMax Scaling Mean: {}'.format(np.mean(SC_MM)))\n",
    "print('Spectral Clustering using MinMax Scaling Standard Deviation: {}'.format(np.std(SC_MM)))\n",
    "print('Spectral Clustering using Standard Scaling Mean: {}'.format(np.mean(SC_SS)))\n",
    "print('Spectral Clustering using Standard Scaling Standard Deviation: {}'.format(np.std(SC_SS)))\n",
    "\n",
    "print('\\nAFFINITY PROPOGATION')\n",
    "print('Affinity Propogation using MinMax Scaling Mean: {}'.format(np.mean(AP_MM)))\n",
    "print('Affinity Propogation using MinMax Scaling Standard Deviation: {}'.format(np.std(AP_MM)))\n",
    "print('Affinity Propogation using Standard Scaling Mean: {}'.format(np.mean(AP_SS)))\n",
    "print('Affinity Propogation using Standard Scaling Standard Deviation: {}'.format(np.std(AP_SS)))"
   ]
  },
  {
   "cell_type": "markdown",
   "metadata": {},
   "source": [
    "## MeanShift Clustering has the highest average scores but affinity propogation has the least variance in each score. "
   ]
  }
 ],
 "metadata": {
  "kernelspec": {
   "display_name": "Python 3",
   "language": "python",
   "name": "python3"
  },
  "language_info": {
   "codemirror_mode": {
    "name": "ipython",
    "version": 3
   },
   "file_extension": ".py",
   "mimetype": "text/x-python",
   "name": "python",
   "nbconvert_exporter": "python",
   "pygments_lexer": "ipython3",
   "version": "3.7.1"
  }
 },
 "nbformat": 4,
 "nbformat_minor": 2
}
